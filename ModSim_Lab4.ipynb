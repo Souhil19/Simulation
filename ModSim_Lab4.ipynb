{
  "cells": [
    {
      "cell_type": "markdown",
      "metadata": {
        "id": "view-in-github",
        "colab_type": "text"
      },
      "source": [
        "<a href=\"https://colab.research.google.com/github/Souhil19/Simulation/blob/master/ModSim_Lab4.ipynb\" target=\"_parent\"><img src=\"https://colab.research.google.com/assets/colab-badge.svg\" alt=\"Open In Colab\"/></a>"
      ]
    },
    {
      "cell_type": "markdown",
      "metadata": {
        "id": "1l01HIcZDnSu"
      },
      "source": [
        "<figure>\n",
        "  <IMG src=\"figures/logo-esi-sba.png\" WIDTH=300 height=\"100\" ALIGN=\"right\">\n",
        "</figure>\n",
        "\n",
        "# Practical Trainining Series on Modeling And Simulation   \n",
        "*By Dr. Belkacem KHALDI (b.khaldi@esi-sba.dz)*"
      ]
    },
    {
      "cell_type": "markdown",
      "metadata": {
        "id": "YjLeUB6DDnS6"
      },
      "source": [
        "## Notebook 4: Modeling Dynamical Systems\n",
        "In this Notebook you learn how to deal with Dynamical Systems Modeling and Simulation. Dynamical systems are widely encountred in real life and are mostely modeled using Ordinary Differential Equations (ODEs). Many of the functions we will use are included in the `scipy` and `sympy` python packages. "
      ]
    },
    {
      "cell_type": "code",
      "execution_count": 1,
      "metadata": {
        "id": "IBymqKCtDnS8"
      },
      "outputs": [],
      "source": [
        "%matplotlib inline\n",
        "import matplotlib.pyplot as plt\n",
        "import sympy as sy\n",
        "import numpy as np\n",
        "from scipy.integrate import odeint"
      ]
    },
    {
      "cell_type": "markdown",
      "metadata": {
        "id": "mGgzztO7DnS_"
      },
      "source": [
        "### 1- Simulating Discrete-Time First-order Systems\n",
        "Discrete-time models assume that time proceeds in a step-wise manner. These type of dynamical systems are described by recurrence relations.\n",
        "\n",
        "A  System is called a First-order system if it is modeld with a difference equation whose rules involve state variables of the immediate past time (at timet−1).\n",
        "\n",
        "#### Example (Exponential Population Growth):\n",
        "The Exponential Population Model is a Standard Model Describing the Growth of a Single Population. The easiest way to capture the idea of a growing population is with a single celled organism, such as a bacterium or a cilliate. In Figure 1, a population of Paramecium in a small laboratory depression slide is pictured. In this population the individuals divide once per day. So, starting with a single individual at day 0, we expect, in successive days, 2, 4, 8, 16, 32, and 64 individuals in the population. \n",
        "<figure>\n",
        "  <IMG src=\"figures/vandermeer_figure1_ksm.jpeg\" WIDTH=300 height=\"100\" ALIGN=\"right\">\n",
        "</figure>\n",
        "\n",
        "We can see here that, on any particular day, the number of individuals in the population is simply twice what the number was the day before. \n",
        "\n",
        "This model is a simple exponential population growth model governed by the following difference equation model:\n",
        " $N_t = a.N_{t−1}$, where $a$ is the rate of  population  generation.\n",
        "    \n",
        "The General mathematic solution for this model is: $.N_0 a^t$, where $N_0$ is the initial population. This can be confirmed using the `sympy`   python library (https://www.sympy.org/) as follows:"
      ]
    },
    {
      "cell_type": "code",
      "execution_count": 2,
      "metadata": {
        "colab": {
          "base_uri": "https://localhost:8080/",
          "height": 38
        },
        "id": "5jW1ixbpDnTB",
        "outputId": "902fa526-fa7e-4508-b306-7c0341319bc3"
      },
      "outputs": [
        {
          "output_type": "execute_result",
          "data": {
            "text/plain": [
              "    t\n",
              "N₀⋅a "
            ],
            "image/png": "[encoded data removed]",
            "text/latex": "$\\displaystyle N_{0} a^{t}$"
          },
          "metadata": {},
          "execution_count": 2
        }
      ],
      "source": [
        "from sympy import Function,rsolve\n",
        "import sympy as sy\n",
        "\n",
        "#To activate Latex format printing\n",
        "sy.init_printing()\n",
        " \n",
        "#Function and variables Declarations\n",
        "N = sy.Function('N')\n",
        "t,a,N0 = sy.symbols('t a N0')\n",
        "#Equation definition\n",
        "f = N(t+1) - a * N(t)\n",
        "#Solving the refernce equation\n",
        "sol = sy.rsolve(f, N(t), {N(0):N0})\n",
        "#Printing the solution\n",
        "sol"
      ]
    },
    {
      "cell_type": "markdown",
      "metadata": {
        "id": "3zdEdnkpDnTF"
      },
      "source": [
        "Now let's numerically simulate this model with an initial poupation $N_0=1.0$ and rate $a=2.0$:"
      ]
    },
    {
      "cell_type": "code",
      "execution_count": 3,
      "metadata": {
        "colab": {
          "base_uri": "https://localhost:8080/",
          "height": 290
        },
        "id": "Wz02gHjrDnTG",
        "outputId": "b79bd9e6-6b09-4fc4-dd13-3d1f8910bb54"
      },
      "outputs": [
        {
          "output_type": "display_data",
          "data": {
            "text/plain": [
              "<Figure size 432x288 with 2 Axes>"
            ],
            "image/png": "[encoded data removed]"
          },
          "metadata": {
            "needs_background": "light"
          }
        }
      ],
      "source": [
        "import matplotlib.pyplot as plt\n",
        "import numpy as np\n",
        "\n",
        "N_0 = 1.0 #initial gen.\n",
        "a   = 3.0 #rate of  pop. gen.\n",
        "N_t = 59  #Max Time steps\n",
        "#generate time steps\n",
        "t = np.linspace(0, (N_t+1), (N_t+2))\n",
        "#Initialize N with 0\n",
        "N = np.zeros(N_t+2) \n",
        "#Set N[0] to N_0\n",
        "N[0] = N_0\n",
        "#Exact Solution\n",
        "E=N_0*np.power(a,t)\n",
        "#Solve Numerically\n",
        "for n in range(N_t+1):\n",
        "    N[n+1] =  N[n] * a\n",
        "\n",
        "#Plotting(solution)\n",
        "fig, axs = plt.subplots(2)\n",
        "axs[0].scatter(x=t, y=N,  c= 'r', s=1, label='numerical')\n",
        "axs[0].plot(t,E , 'b',label='exact')\n",
        "axs[0].legend(loc='upper left')\n",
        "axs[0].set(xlabel='t', ylabel='N(t)')\n",
        "axs[1].plot(t,(E-N)**2,label='error')\n",
        "axs[1].legend(loc='upper left')\n",
        "axs[1].set(xlabel='t', ylabel='Err(t)')\n",
        "plt.show()"
      ]
    },
    {
      "cell_type": "markdown",
      "metadata": {
        "id": "QFMhvBgUDnTI"
      },
      "source": [
        "Not here the square error isalmost zero. Try with differnt value of $a$. For example, $a=1.1$"
      ]
    },
    {
      "cell_type": "markdown",
      "metadata": {
        "id": "LXtX2mgnDnTJ"
      },
      "source": [
        "### Challenge 1:\n",
        "We want to simulate the population growth in bacteria. Bacteria are prokaryotes that reproduce by prokaryotic fission. This division takes about an hour for many bacterial species. Assume that 1000 bacteria are placed in a large flask with an unlimited supply of nutrients (so the nutrients will not become depleted), after an hour there will be one round of division (with each organism dividing once), resulting in 2000 organisms. In another hour, each of the 2000 organisms will double, producing 4000; after the third hour, there should be 8000 bacteria in the flask; and so on. \n",
        "\n",
        "<ol type = \"1\">\n",
        "         <li>Simulate the above model for a total 72 hours using python and plot the exact and numerical solutions as well as the  square error (use the python code above as a staring point).\n",
        "</li>\n",
        "         <li>What will be the total number of bacteria in Hour=15</li>     \n",
        "</ol>\n",
        "\n",
        "#### Hint\n",
        "Note that this system is governed by the following equation: $P_h=r.P_{h-1}$. Where $r$ is the rate of the population growth and $P_h$ is the actual number of population at hour $h$."
      ]
    },
    {
      "cell_type": "code",
      "execution_count": 17,
      "metadata": {
        "colab": {
          "base_uri": "https://localhost:8080/",
          "height": 290
        },
        "id": "IK4-h3CHDnTN",
        "outputId": "a7501e22-853b-4ece-ef30-0748144f96ba"
      },
      "outputs": [
        {
          "output_type": "display_data",
          "data": {
            "text/plain": [
              "<Figure size 432x288 with 2 Axes>"
            ],
            "image/png": "[encoded data removed]"
          },
          "metadata": {
            "needs_background": "light"
          }
        }
      ],
      "source": [
        "from sympy import Function,rsolve\n",
        "import sympy as sy\n",
        "\n",
        "import matplotlib.pyplot as plt\n",
        "import numpy as np\n",
        "\n",
        "#To activate Latex format printing\n",
        "sy.init_printing()\n",
        " \n",
        "#Function and variables Declarations\n",
        "P = sy.Function('P')\n",
        "t,a,P0 = sy.symbols('t a P0')\n",
        "#Equation definition\n",
        "f = P(t+1) - a * P(t)\n",
        "#Solving the refernce equation\n",
        "sol = sy.rsolve(f, P(t), {P(0):P0})\n",
        "#Printing the solution\n",
        "sol\n",
        "\n",
        "\n",
        "P_0 = 1000.0 #initial gen.\n",
        "a   = 2.0 #rate of  pop. gen.\n",
        "P_t = 72  #Max Time steps\n",
        "#generate time steps\n",
        "t = np.linspace(0, (P_t+1), (P_t+2))\n",
        "#Initialize N with 0\n",
        "P = np.zeros(P_t+2) \n",
        "#Set N[0] to N_0\n",
        "P[0] = P_0\n",
        "#Exact Solution\n",
        "E=P_0*np.power(a,t)\n",
        "#Solve Numerically\n",
        "for n in range(P_t+1):\n",
        "    P[n+1] =  P[n] * a\n",
        "\n",
        "#Plotting(solution)\n",
        "fig, axs = plt.subplots(2)\n",
        "axs[0].scatter(x=t, y=P,  c= 'r', s=1, label='numerical')\n",
        "axs[0].plot(t,E , 'b',label='exact')\n",
        "axs[0].legend(loc='upper left')\n",
        "axs[0].set(xlabel='t', ylabel='P(t)')\n",
        "axs[1].plot(t,(E-N)**2,label='error')\n",
        "axs[1].legend(loc='upper left')\n",
        "axs[1].set(xlabel='t', ylabel='Err(t)')\n",
        "plt.show()\n"
      ]
    },
    {
      "cell_type": "markdown",
      "metadata": {
        "id": "kZbsvolzDnTO"
      },
      "source": [
        "### 2- Simulating Continuous Time dynamical Systems\n",
        "Continuous Time Dynamical systems are usually described using differential equation models, specifically ordinary differential equations (ODE).\n",
        "\n",
        "#### 2.1- ODEs - 1D Autonomous Equations \n",
        "#### Example: Exponential Population Growth System\n",
        "Now we consider the simple exponential population growth system modeled by the 1st-order autonomous model:\n",
        "$\\frac{d x}{d t}= x$.\n",
        "A general mathematical solution for this system can be found using `sympy`  python library as follows:"
      ]
    },
    {
      "cell_type": "code",
      "execution_count": 5,
      "metadata": {
        "colab": {
          "base_uri": "https://localhost:8080/",
          "height": 38
        },
        "id": "_LgwsrmtDnTP",
        "outputId": "0ff1670b-b431-4ad2-a2ba-a534c23aa1a3"
      },
      "outputs": [
        {
          "output_type": "execute_result",
          "data": {
            "text/plain": [
              "           t\n",
              "x(t) = C₁⋅ℯ "
            ],
            "image/png": "[encoded data removed]",
            "text/latex": "$\\displaystyle x{\\left(t \\right)} = C_{1} e^{t}$"
          },
          "metadata": {},
          "execution_count": 5
        }
      ],
      "source": [
        "import sympy as sy\n",
        "sy.init_printing()\n",
        "# declare math. symbols used in Eq \n",
        "t = sy.symbols('t')\n",
        "f = sy.Function('x')\n",
        "# Solve the equation f'(t) = x(t)\n",
        "diffEq = f(t).diff(t) - f(t)\n",
        "sy.dsolve(diffEq, f(t))"
      ]
    },
    {
      "cell_type": "markdown",
      "metadata": {
        "id": "irVTggHwDnTX"
      },
      "source": [
        "Then the numerical solution is gotten using the `scipy.odeint` funstion. In the code bellow, we plot both the exact and numerical solutions. To plot the numerical solution, an initial condition  should be given as a parameter when calling the `odeint` function (In this example: y0=0.5). To plot the exact solution gotten from the `sympy` package, we call the `lamdify` function to transform sympy expression equations to lambda functions which can be used to calculate numerical values very fast."
      ]
    },
    {
      "cell_type": "code",
      "execution_count": 6,
      "metadata": {
        "colab": {
          "base_uri": "https://localhost:8080/",
          "height": 295
        },
        "id": "z2D-tFhDDnTY",
        "outputId": "4d491ffb-b353-40f0-b0e2-d8964e239bc4"
      },
      "outputs": [
        {
          "output_type": "display_data",
          "data": {
            "text/plain": [
              "<Figure size 432x288 with 1 Axes>"
            ],
            "image/png": "[encoded data removed]"
          },
          "metadata": {
            "needs_background": "light"
          }
        }
      ],
      "source": [
        "import sympy as sy\n",
        "import numpy as np\n",
        "import matplotlib.pyplot as plt \n",
        "\n",
        "from scipy.integrate import odeint\n",
        "\n",
        "sy.init_printing()\n",
        "\n",
        "def PopGrowth(x, time):\n",
        "    return x\n",
        "# declare math. symbols used in Eq \n",
        "\n",
        "\n",
        "def ExactSol(time_arr,IC):\n",
        "    t = sy.symbols('t')\n",
        "    f = sy.Function('x')\n",
        "    # Solve the equation f'(t) = x(t)\n",
        "    diffEq = f(t).diff(t) - f(t)\n",
        "    solve=sy.dsolve(diffEq, f(t), ics = {f(0): IC})\n",
        "    #Get the exact numerical solution\n",
        "    func = sy.lambdify(t, solve.rhs,'numpy') \n",
        "    yvals = func(time_arr)\n",
        "    return yvals\n",
        "\n",
        "#Get the numerical solution using odeint for initial Value IV\n",
        "def NumericalSol(time_arr,IV):\n",
        "    yvals = odeint(PopGrowth, IV, time_arr)\n",
        "    return yvals\n",
        "\n",
        "\n",
        "x0 = 0.5 # an initial condition, \n",
        "ts = np.linspace(0.0, 10.0, 100) # values of independent variable\n",
        "#comppute exact and numerical solutions\n",
        "yexact=ExactSol(ts,x0)\n",
        "ynum=NumericalSol(ts,x0)\n",
        "\n",
        "#Plotting results\n",
        "plt.scatter(ts,ynum, label='Numerical', color='r')\n",
        "plt.plot(ts, yexact,label='Exact', color='b' )\n",
        "plt.xlabel('t')\n",
        "plt.ylabel('f(t)')\n",
        "plt.title('Exponential Population Growth')\n",
        "plt.legend()\n",
        "plt.show()"
      ]
    },
    {
      "cell_type": "markdown",
      "metadata": {
        "id": "QzHNnqpeDnTa"
      },
      "source": [
        "### Challenge 2: Logistic Population Growth System\n",
        "Consider the logistic population growth system seen in the course. This system is modeled by the 1st-order autonomous model:\n",
        "$\\frac{d x}{d t}=x(1- x)$\n",
        "A general mathematical solution for this system can be found using `sympy`  python library as follows:"
      ]
    },
    {
      "cell_type": "code",
      "execution_count": 7,
      "metadata": {
        "colab": {
          "base_uri": "https://localhost:8080/",
          "height": 54
        },
        "id": "lT_JBC9-DnTb",
        "outputId": "6c79531e-02d3-48e1-dee5-1f3ae1b1de9f"
      },
      "outputs": [
        {
          "output_type": "execute_result",
          "data": {
            "text/plain": [
              "           1     \n",
              "x(t) = ──────────\n",
              "           -t    \n",
              "       C₁⋅ℯ   + 1"
            ],
            "image/png": "[encoded data removed]",
            "text/latex": "$\\displaystyle x{\\left(t \\right)} = \\frac{1}{C_{1} e^{- t} + 1}$"
          },
          "metadata": {},
          "execution_count": 7
        }
      ],
      "source": [
        "import sympy as sy\n",
        "sy.init_printing()\n",
        "# declare math. symbols used in Eq \n",
        "t = sy.symbols('t')\n",
        "f = sy.Function('x')\n",
        "# Solve the equation f'(t) = x(t)*(1-x(t))\n",
        "diffEq = f(t).diff(t) - f(t)*(1-f(t))\n",
        "sy.dsolve(diffEq, f(t))"
      ]
    },
    {
      "cell_type": "markdown",
      "metadata": {
        "id": "p4QD9eIWDnTd"
      },
      "source": [
        "<ol type = \"1\">\n",
        " <li>Using the  2nd  code of the Exponential Population Growth, plots both the numerical and exact solutions for this system with a initial condition $x_0=0.75$.\n",
        "</li>\n",
        " <li>Plot in another jupyter cell the solutions for 25 initial conditions starting from 0 and ending by 3.0.</li>    \n",
        "  <li>Identify the equilibrium positions for this solution. Note that the equilibrium solutions are where the derivative is equal to zero </li>\n",
        " <li>Identify the stable and unstable equilibrium point. Note that the stable point is where the solution curves converge to that point. Whereas, the unstable point is the opposit</li>\n",
        "</ol>\n",
        "\n",
        "\n",
        "\n",
        "#### Hint\n",
        "You hve to change the `PopGrowth` return function as well as to adjust the `ExactSol` function accordingly.\n"
      ]
    },
    {
      "cell_type": "code",
      "execution_count": 8,
      "metadata": {
        "id": "OIMm9YQHDnTg"
      },
      "outputs": [],
      "source": [
        "#your code for plotting both the numerical and exact solutions"
      ]
    },
    {
      "cell_type": "code",
      "execution_count": 9,
      "metadata": {
        "id": "jPHApqmQDnTh"
      },
      "outputs": [],
      "source": [
        "#your code for plotting both the numerical and exact solutions for 25 initial conditions"
      ]
    },
    {
      "cell_type": "code",
      "execution_count": 10,
      "metadata": {
        "id": "sX0HmwKQDnTi"
      },
      "outputs": [],
      "source": [
        "#To define the stable and unstable equilibrium points"
      ]
    },
    {
      "cell_type": "markdown",
      "metadata": {
        "id": "50_bbq4rDnTj"
      },
      "source": [
        "### Challenge 3:\n",
        "A population of insects in a region will grow every day at a rate, $r=0.0785$, that is proportional to their current population. In the absence of any outside factors the population will triple in two weeks time. On any given day there is a net migration into the area of 15 insects and 16 are eaten by the local bird population and 7 die of natural causes. \n",
        "Simulate this model and plot the population growth model for a total duration of 60 days with an initial population of 100 insects in the area.  Will the population survive? If not, when do they die out?\n",
        "\n",
        "#### Hint\n",
        "Use the following dynamical system to model this system:\n",
        "$\\frac{d P}{d t}=\\frac{d E}{d t} -\\frac{d S}{d t}$. Where $\\frac{d P}{d t}$ is the rate of the total population change, $\\frac{d E}{d t}$ the rate at which a poplation enters a region, and $\\frac{d S}{d t}$ is the rate at which  a poplation exit a region.\n",
        "\n",
        "<ol type = \"1\">\n",
        " <li>First identify the dynamics equation of $\\frac{d E}{d t}$ and $\\frac{d S}{d t}$. Note that $\\frac{d E}{d t}$ follows a simple exponential growth model of the form $rP+b$. Wherease, $\\frac{d S}{d t}$ is a constant.</li>\n",
        "    \n",
        " <li>Find the general solution of the obtained dymaincal equation $\\frac{d P}{d t}$ using sympy</li>\n",
        "    <li>Plot the numerical and the exact solutions using odeint and sympy and identify when the population die out. Note that the population die out once $P=0$, you can plot a horinzontal line in your plot using <b>plt.axhline</b>. As example plt.axhline(y=value, color='g',ls='--') to help you approximate the day when the population die out.</li>\n",
        "</ol>\n",
        " "
      ]
    },
    {
      "cell_type": "code",
      "execution_count": 11,
      "metadata": {
        "id": "hk0QygNtDnTn"
      },
      "outputs": [],
      "source": [
        "# Your Code"
      ]
    },
    {
      "cell_type": "markdown",
      "metadata": {
        "id": "8wS4rN68DnTn"
      },
      "source": [
        "#### 2.2- ODEs - 2D Autonomous Equations\n",
        "#### Example: Predator-prey equations (Modelling the populations of rabbits and foxes)\n",
        "The predator-prey equations are a pair of coupled first-order non-linear ODEs thhst obey the following dynamical system:\n",
        "\\begin{cases} \n",
        "      \\frac{d x}{t}= ax-bxy, \\\\\n",
        "     \\frac{d y}{t}=  -cy+dxy,  \n",
        "   \\end{cases}\n",
        " Where $a,b,c$ and $d$ are parameters, which are assumed to be positive.\n",
        " The numerical solution for such system with $x=1.5, y=1.0$ as initial conditions can be obtained as follows:"
      ]
    },
    {
      "cell_type": "code",
      "execution_count": 12,
      "metadata": {
        "colab": {
          "base_uri": "https://localhost:8080/",
          "height": 283
        },
        "id": "pjs6hAE0DnTo",
        "outputId": "bdc0f569-41b9-4556-ee4b-51de07e97b83"
      },
      "outputs": [
        {
          "output_type": "display_data",
          "data": {
            "text/plain": [
              "<Figure size 432x288 with 1 Axes>"
            ],
            "image/png": "[encoded data removed]"
          },
          "metadata": {
            "needs_background": "light"
          }
        }
      ],
      "source": [
        "import numpy as np\n",
        "import matplotlib.pyplot as plt\n",
        "from scipy.integrate import odeint\n",
        "\n",
        "def predprey(Z, t, a=1, b=1, c=1, d=1): # a,b,c,d optional arguments. \n",
        "    x, y = Z[0], Z[1]\n",
        "    dxdt, dydt = x*(a - b*y), -y*(c - d*x)\n",
        "    return [dxdt, dydt]\n",
        "ts = np.linspace(0, 12, 100)\n",
        "Z0 = [1.5, 1.0] # initial conditions for x and y \n",
        "Sol = odeint(predprey, Z0, ts, args=(1,1,1,1))\n",
        "# use optional argument ’args’ to pass parameters to dZ_dt \n",
        "prey = Sol[:,0] # first column\n",
        "predators = Sol[:,1] # second column\n",
        "\n",
        "# Let’s plot ’rabbit’ and ’fox’ populations as a function of time\n",
        "plt.plot(ts, prey, label=\"Rabbits\")\n",
        "plt.plot(ts, predators, label=\"Foxes\")\n",
        "plt.xlabel(\"Time\", fontsize=14)\n",
        "plt.ylabel(\"Population\", fontsize=14)\n",
        "plt.legend();"
      ]
    },
    {
      "cell_type": "markdown",
      "metadata": {
        "id": "u_uQpx1wDnTv"
      },
      "source": [
        "Normally such systems are represented by a `phase portrait` that is a geometric representation of the trajectories of the dynamical system in the `phase plane`.\n",
        "a `phase plane` is a visual display of certain characteristics of certain kinds of differential equations; a coordinate plane with axes being the values of the two state variables, say (x, y), or (q, p) etc. \n",
        "So, the Phase plot for the above system (See black plot)  as well as when taking into account different initial conditions (See other colors plots) are as follows:"
      ]
    },
    {
      "cell_type": "code",
      "execution_count": 13,
      "metadata": {
        "colab": {
          "base_uri": "https://localhost:8080/",
          "height": 409
        },
        "id": "bmOFZt7ZDnTw",
        "outputId": "cda29866-c704-404b-8b86-61dada25c3ca"
      },
      "outputs": [
        {
          "output_type": "execute_result",
          "data": {
            "text/plain": [
              "Text(0, 0.5, 'Foxes')"
            ]
          },
          "metadata": {},
          "execution_count": 13
        },
        {
          "output_type": "display_data",
          "data": {
            "text/plain": [
              "<Figure size 432x432 with 1 Axes>"
            ],
            "image/png": "[encoded data removed]"
          },
          "metadata": {
            "needs_background": "light"
          }
        }
      ],
      "source": [
        "fig = plt.figure()\n",
        "fig.set_size_inches(6,6) # Square plot, 1:1 aspect ratio \n",
        "ics = np.arange(1.0, 3.0, 0.2) # initial conditions\n",
        "for r in ics:\n",
        "    Z0 = [r, 1.0]\n",
        "    Sol = odeint(predprey, Z0, ts)\n",
        "    plt.plot(Sol[:,0], Sol[:,1])\n",
        "\n",
        "Sol = odeint(predprey, [1.5, 1.0], ts)\n",
        "plt.plot(Sol[:,0], Sol[:,1],color='black')\n",
        "plt.xlabel(\"Rabbits\", fontsize=14)\n",
        "plt.ylabel(\"Foxes\", fontsize=14)"
      ]
    },
    {
      "cell_type": "markdown",
      "metadata": {
        "id": "nbCvAp8nDnTy"
      },
      "source": [
        "### Challenge 4: \n",
        "We want to model the spread of a disease in a population using the so-called Susceptible-Infected-Removed (SIR) Epidemic model. A simple mathematical description of such model, which divides the (fixed) population of $N$ individuals into three \"compartments\" which may vary as a function of time, $t$:\n",
        "<ul>\n",
        "<li>$S(t)$ are those susceptible but not yet infected with the disease;\n",
        "<li>$I(t)$ is the number of infectious individuals;\n",
        "<li>$R(t)$ are those individuals who have recovered from the disease and now have immunity to it.\n",
        "</ul>\n",
        "\n",
        "The SIR model describes the change in the population of each of these compartments in terms of two parameters, $β$ and $γ$. $β$ describes the effective contact rate of the disease: an infected individual comes into contact with $βN$ other individuals per unit time (of which the fraction that are susceptible to contracting the disease is $S/N$). $γ$ is the mean recovery rate: that is, $1/γ$ is the mean period of time during which an infected individual can pass it on.\n",
        "\n",
        "The differential equations describing this model is given bellow:\n",
        "\n",
        "\\begin{cases} \n",
        "     \\frac{d S}{d t}=−\\frac{βSI}{N}, \\\\\n",
        "     \\frac{d I}{d t}=\\frac{βSI}{N} - γI, \\\\ \n",
        "     \\frac{d R}{d t}= γI,\n",
        "   \\end{cases}\n",
        "   \n",
        "Comple The following Python code to integrates these equations for a disease characterised by parameters $β=0.2$, $1/γ=10$ days in a population of $N=1000$. The model is started with a single infected individual on day 0: I(0)=1. plot curves of $\\frac{S(t)}{N}$, $\\frac{I(t)}{N}$ and $\\frac{R(t)}{N}$. "
      ]
    },
    {
      "cell_type": "code",
      "execution_count": 16,
      "metadata": {
        "colab": {
          "base_uri": "https://localhost:8080/",
          "height": 235
        },
        "id": "Mw5jbEUfDnT2",
        "outputId": "ebad3a39-5ecd-4540-cd10-af6c10b4a399"
      },
      "outputs": [
        {
          "output_type": "error",
          "ename": "TypeError",
          "evalue": "ignored",
          "traceback": [
            "\u001b[0;31m---------------------------------------------------------------------------\u001b[0m",
            "\u001b[0;31mTypeError\u001b[0m                                 Traceback (most recent call last)",
            "\u001b[0;32m<ipython-input-16-629afbd317ef>\u001b[0m in \u001b[0;36m<module>\u001b[0;34m()\u001b[0m\n\u001b[1;32m     24\u001b[0m \u001b[0;31m# Integrate the SIR equations over the time grid, t.\u001b[0m\u001b[0;34m\u001b[0m\u001b[0;34m\u001b[0m\u001b[0;34m\u001b[0m\u001b[0m\n\u001b[1;32m     25\u001b[0m \u001b[0;31m#sol = call the odeint function to return your numerical solutions\u001b[0m\u001b[0;34m\u001b[0m\u001b[0;34m\u001b[0m\u001b[0;34m\u001b[0m\u001b[0m\n\u001b[0;32m---> 26\u001b[0;31m \u001b[0msol\u001b[0m\u001b[0;34m=\u001b[0m\u001b[0modeint\u001b[0m\u001b[0;34m(\u001b[0m\u001b[0;34m)\u001b[0m\u001b[0;34m\u001b[0m\u001b[0;34m\u001b[0m\u001b[0m\n\u001b[0m\u001b[1;32m     27\u001b[0m \u001b[0;34m\u001b[0m\u001b[0m\n\u001b[1;32m     28\u001b[0m \u001b[0;31m# Plot the data in the same plot on three separate curves for S(t), I(t) and R(t)\u001b[0m\u001b[0;34m\u001b[0m\u001b[0;34m\u001b[0m\u001b[0;34m\u001b[0m\u001b[0m\n",
            "\u001b[0;31mTypeError\u001b[0m: odeint() missing 3 required positional arguments: 'func', 'y0', and 't'"
          ]
        }
      ],
      "source": [
        "import numpy as np\n",
        "from scipy.integrate import odeint\n",
        "import matplotlib.pyplot as plt\n",
        "\n",
        "# Total population, N.\n",
        "N = 1000\n",
        "# Initial number of infected and recovered individuals, I0 and R0.\n",
        "I0, R0 = 1, 0\n",
        "# Everyone else, S0, is susceptible to infection initially.\n",
        "S0 = N - I0 - R0\n",
        "# Contact rate, beta, and mean recovery rate, gamma, (in 1/days).\n",
        "beta, gamma = 0.2, 1./10 \n",
        "# A grid of time points (in days)\n",
        "t = np.linspace(0, 160, 160)\n",
        "\n",
        "# The SIR model differential equations.\n",
        "def SIR_Deriv(y, t, N=1000, beta=0.2, gamma=1./10):\n",
        "    #complete  this function to return the derivatives of each SIR compartment\n",
        "    \n",
        "    return [dSdt, dIdt, dRdt]\n",
        "\n",
        "# Initial conditions vector\n",
        "y0 = S0, I0, R0\n",
        "# Integrate the SIR equations over the time grid, t.\n",
        "#sol = call the odeint function to return your numerical solutions\n",
        "sol=odeint()\n",
        "\n",
        "# Plot the data in the same plot on three separate curves for S(t), I(t) and R(t) \n",
        "#with labels 'Susceptible' for S(t), 'Infected' for I(t), and 'Recovered with immunity' for I(t)\n",
        "\n"
      ]
    },
    {
      "cell_type": "markdown",
      "metadata": {
        "id": "5HWB1Uq-DnT3"
      },
      "source": [
        "Plot the phase space of all the combination of the SIR system in The same axis plot\n",
        "<ul>\n",
        "<li> $S(t)$ with regards to $R(t)$\n",
        "<li> $S(t)$ with regards to $I(t)$\n",
        "<li> $R(t)$ with regards to $I(t)$\n",
        "</ul>    \n",
        "\n"
      ]
    },
    {
      "cell_type": "code",
      "execution_count": null,
      "metadata": {
        "id": "8arLP7L-DnT4"
      },
      "outputs": [],
      "source": [
        "#your code here"
      ]
    },
    {
      "cell_type": "markdown",
      "metadata": {
        "id": "7JZxCHRXDnT5"
      },
      "source": [
        "#### ODEs - Second-Order Systems\n",
        "#### Example:  The Van der Pol oscillator\n",
        "We want to simulate and model the `Van der Pol` oscillator system seen in the cours. This system is a non-conservative oscillator with non-linear damping.  It evolves in time according to the following ODE:\n",
        "\n",
        "$ \\frac{d^2 x}{d t^2}-a\\left(1-x^2(t)\\right)\\frac{d x}{d t}+x(t)=0$\n",
        " or\n",
        " \n",
        "$\\ddot{x}-a(1-x^2)\\dot{x}+x=0$\n",
        "\n",
        "The `Van der Pol` system is beiing used to model biological processes such as heart beat, circadian rhythms, biochemical oscillators, and pacemaker neuron...\n",
        "\n",
        "To solve such 2nd ODE it has to be written as two coupled first-order equations, by introducing a new variable as follows:\n",
        "\n",
        "\\begin{cases} \n",
        "     \\dot{x}=y, \\\\\n",
        "     \\dot{y}=a(1-x^2)y-x,  \n",
        "   \\end{cases}\n",
        "\n",
        "Then, the numerical solution is as follows:"
      ]
    },
    {
      "cell_type": "code",
      "execution_count": null,
      "metadata": {
        "id": "uXfrPdAvDnT6"
      },
      "outputs": [],
      "source": [
        "def Van_der_Pol (Z, t, a = 1.0): \n",
        "    x, y = Z[0], Z[1]\n",
        "    dxdt = y\n",
        "    dydt = a*(1-x**2)*y - x \n",
        "    return [dxdt, dydt]\n",
        "def random_ic(scalefac=2.0): # stochastic initial condition \n",
        "    return scalefac*(2.0*np.random.rand(2) - 1.0)\n",
        "\n",
        "ts = np.linspace(0.0, 40.0, 400)\n",
        "nlines = 20\n",
        "for ic in [random_ic() for i in range(nlines)]:\n",
        "    Zs = odeint(Van_der_Pol, ic, ts)\n",
        "    plt.plot(Zs[:,0], Zs[:,1])\n",
        "    plt.plot([Zs[0,0]],[Zs[0,1]], 's') # plot the first point\n",
        "    \n",
        "plt.xlabel(\"x\", fontsize =14)\n",
        "plt.ylabel(\"y\", fontsize =14)"
      ]
    },
    {
      "cell_type": "markdown",
      "metadata": {
        "id": "1NriHOC-DnT7"
      },
      "source": [
        "Note that All curves tend towards a `limit cycle`.\n",
        "a `limit cycle` is a closed trajectory in phase space having the property that at least one other trajectory spirals into it either as time approaches infinity or as time approaches negative infinity.\n",
        "`Limit cycles` are important in many scientific applications such as:\n",
        "\n",
        "<ul>\n",
        " <li>  Aerodynamic\n",
        " <li> The Hodgkin–Huxley model for action potentials in neurons.\n",
        " <li> The daily oscillations in gene expression, hormone levels and body temperature of animals, which are part of the circadian rhythm.\n",
        " <li>The migration of cancer cells in confining micro-environments\n",
        "  <li> Some non-linear electrical circuits\n",
        "</ul>\n",
        "\n",
        "Now we investigate how the `limit cycle` varies with the parameter `a`:"
      ]
    },
    {
      "cell_type": "code",
      "execution_count": null,
      "metadata": {
        "id": "U87uoVJtDnT8"
      },
      "outputs": [],
      "source": [
        "avals = np.arange(0.2, 2.1, 0.25) # parameters\n",
        "minpt = int(len(ts) / 2) # look at late-time behaviour \n",
        "\n",
        "for a in avals:\n",
        "    Zs = odeint(Van_der_Pol, random_ic(), ts, args=(a,))\n",
        "    plt.plot(Zs[minpt:,0], Zs[minpt:,1], label=a)\n",
        "    \n",
        "plt.xlabel(\"x\", fontsize =14)\n",
        "plt.ylabel(\"y\", fontsize =14)\n",
        "plt.legend(title='a', bbox_to_anchor=(1.05, 1), loc='upper left')"
      ]
    },
    {
      "cell_type": "code",
      "execution_count": null,
      "metadata": {
        "id": "1DtZvN-9DnT9"
      },
      "outputs": [],
      "source": [
        ""
      ]
    },
    {
      "cell_type": "markdown",
      "metadata": {
        "id": "8TG0ovLeDnT-"
      },
      "source": [
        "  ### Challenge 5: \n",
        "  The differential equation used to model the motion of a simple pendulum in the plane, as shown in the Figure in the side, can be derived using a simplified Newton’s law of motion as follows:\n",
        "    \n",
        "    \n",
        "  <IMG src=\"figures/ds-pendulum.png\" WIDTH=300 height=\"100\" ALIGN=\"right\">\n",
        " \n",
        "\n",
        "   $m \\frac{d^2 \\theta}{d t^2} +m\\frac{g}{l} sin(\\theta)=0$\n",
        "   \n",
        "   Or\n",
        "   \n",
        "   $ m\\ddot{\\theta}+m\\frac{g}{l} sin(\\theta)=0$ \n",
        "   \n",
        "   \n",
        "   where $\\theta$ is the angular displacement from the vertical, $l=1 m$ is the length of the arm of the pendulum, which swings in the plane, $m= 1 klg$ is the mass of pendulum, and $g=9.81$ is the acceleration due to gravity.\n",
        "   \n",
        "   \n",
        "  Starting from an initial angle $\\theta=\\pi /4$ and an initial angular velocity $\\dot{\\theta} = 0$, simulate the dynamics of the pendulum system using scipy python library."
      ]
    },
    {
      "cell_type": "code",
      "execution_count": null,
      "metadata": {
        "id": "TmwxDWsNDnT_"
      },
      "outputs": [],
      "source": [
        "#Your Solution\n",
        "\n",
        "import numpy as np\n",
        "from scipy import integrate\n",
        "import matplotlib.pyplot as plt\n",
        "# Input constants \n"
      ]
    },
    {
      "cell_type": "markdown",
      "metadata": {
        "id": "xKUL19SnDnUA"
      },
      "source": [
        "### Challenge 6: \n",
        "We want to model and simulate the trajectory of a particle with mass $m=1.0kg$. Let $u=(x,y)$ encode the 2D position  of this particle.\n",
        "The differential equation governing the motion of the particle is described using the Newton's second law of motion in classical mechanics. This law states that, in an inertial reference frame, the mass multiplied by the acceleration of the particle is equal to the sum of all forces applied to that particle. Here, we obtain:\n",
        "\n",
        "$ \\frac{d^2 u}{d t^2}=-\\frac{k}{m}\\frac{d u}{d t}+g$\n",
        " or\n",
        " \n",
        "$\\ddot{u}=-\\frac{k}{m}\\dot{u}+g$\n",
        "\n",
        "Where $g=9.81$ is the gravity acceleration vector and $k$ is a drag coefficient.\n",
        "\n",
        "Starting from an initial position, $u=[0,0]$, and initial speed vector $\\dot{u}=[4.0,10.0]$ , simulate this second-order ODE with SciPy by first converting it to a first-order ODE. Note that your derivative function have to return  a vector of 2 states: v=[$\\dot{u}$, $\\ddot{u}$], where $\\dot{u}$ and $\\ddot{u}$ are the 1st and 2nd derivatives of $u$.  \n",
        "\n",
        "Plot the results for 5 different values of $k$ of your choice\n",
        "\n",
        "#### Hint\n",
        "<ul>\n",
        " <li>Use a vector $v0=[0,0,4.,10.]$ to initialize $u$ and $\\dot{u}$. This vector that stacks 4 components ([$u,\\dot{u}$]) will be passed as an itital condition for the odeint function.\n",
        "</ul>"
      ]
    },
    {
      "cell_type": "code",
      "execution_count": null,
      "metadata": {
        "id": "2gR5tnwBDnUB"
      },
      "outputs": [],
      "source": [
        "import numpy as np\n",
        "import scipy.integrate as spi\n",
        "import matplotlib.pyplot as plt\n",
        "%matplotlib inline\n",
        "\n",
        "m = 1.  # particle's mass\n",
        "k = 1.  # drag coefficient\n",
        "g = 9.81  # gravity acceleration\n",
        "\n",
        "# The initial position is (0, 0).\n",
        "v0 = np.zeros(4)\n",
        "# The initial speed vector is oriented\n",
        "# to the top right.\n",
        "v0[2] = 4.\n",
        "v0[3] = 10.\n",
        "\n",
        "def motion_derivative(v, t0, k):\n",
        "    # v has four components: v=[u, u'].\n",
        "    \n",
        "    #\n",
        "    return np.r_[y, ydot]\n",
        "\n",
        "\n",
        "# We want to evaluate the system on 30 linearly\n",
        "# spaced times between t=0 and t=3.\n",
        "t = np.linspace(0., 3., 30)\n",
        "\n",
        "# Simulate the system by plotting the numerical solutions for different values of k using a for loop by.\n"
      ]
    }
  ],
  "metadata": {
    "kernelspec": {
      "display_name": "Python 3 (ipykernel)",
      "language": "python",
      "name": "python3"
    },
    "language_info": {
      "codemirror_mode": {
        "name": "ipython",
        "version": 3
      },
      "file_extension": ".py",
      "mimetype": "text/x-python",
      "name": "python",
      "nbconvert_exporter": "python",
      "pygments_lexer": "ipython3",
      "version": "3.9.7"
    },
    "colab": {
      "name": "ModSim_Lab4.ipynb",
      "provenance": [],
      "collapsed_sections": [],
      "include_colab_link": true
    }
  },
  "nbformat": 4,
  "nbformat_minor": 0
}